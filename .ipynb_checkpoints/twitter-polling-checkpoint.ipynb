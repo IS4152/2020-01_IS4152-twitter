{
 "cells": [
  {
   "cell_type": "code",
   "execution_count": 2,
   "metadata": {},
   "outputs": [
    {
     "name": "stdout",
     "output_type": "stream",
     "text": [
      "Requirement already satisfied: tweepy in c:\\users\\choon\\appdata\\local\\continuum\\anaconda3\\lib\\site-packages (3.9.0)"
     ]
    },
    {
     "name": "stderr",
     "output_type": "stream",
     "text": [
      "WARNING: You are using pip version 20.1; however, version 20.2.3 is available.\n",
      "You should consider upgrading via the 'c:\\users\\choon\\appdata\\local\\continuum\\anaconda3\\python.exe -m pip install --upgrade pip' command.\n"
     ]
    },
    {
     "name": "stdout",
     "output_type": "stream",
     "text": [
      "\n",
      "Requirement already satisfied: six>=1.10.0 in c:\\users\\choon\\appdata\\local\\continuum\\anaconda3\\lib\\site-packages (from tweepy) (1.14.0)\n",
      "Requirement already satisfied: requests[socks]>=2.11.1 in c:\\users\\choon\\appdata\\local\\continuum\\anaconda3\\lib\\site-packages (from tweepy) (2.23.0)\n",
      "Requirement already satisfied: requests-oauthlib>=0.7.0 in c:\\users\\choon\\appdata\\local\\continuum\\anaconda3\\lib\\site-packages (from tweepy) (1.3.0)\n",
      "Requirement already satisfied: idna<3,>=2.5 in c:\\users\\choon\\appdata\\local\\continuum\\anaconda3\\lib\\site-packages (from requests[socks]>=2.11.1->tweepy) (2.9)\n",
      "Requirement already satisfied: chardet<4,>=3.0.2 in c:\\users\\choon\\appdata\\local\\continuum\\anaconda3\\lib\\site-packages (from requests[socks]>=2.11.1->tweepy) (3.0.4)\n",
      "Requirement already satisfied: certifi>=2017.4.17 in c:\\users\\choon\\appdata\\local\\continuum\\anaconda3\\lib\\site-packages (from requests[socks]>=2.11.1->tweepy) (2020.4.5.1)\n",
      "Requirement already satisfied: urllib3!=1.25.0,!=1.25.1,<1.26,>=1.21.1 in c:\\users\\choon\\appdata\\local\\continuum\\anaconda3\\lib\\site-packages (from requests[socks]>=2.11.1->tweepy) (1.25.8)\n",
      "Requirement already satisfied: PySocks!=1.5.7,>=1.5.6; extra == \"socks\" in c:\\users\\choon\\appdata\\local\\continuum\\anaconda3\\lib\\site-packages (from requests[socks]>=2.11.1->tweepy) (1.7.1)\n",
      "Requirement already satisfied: oauthlib>=3.0.0 in c:\\users\\choon\\appdata\\local\\continuum\\anaconda3\\lib\\site-packages (from requests-oauthlib>=0.7.0->tweepy) (3.1.0)\n"
     ]
    }
   ],
   "source": [
    "!pip install tweepy"
   ]
  },
  {
   "cell_type": "code",
   "execution_count": 3,
   "metadata": {},
   "outputs": [],
   "source": [
    "import os\n",
    "import tweepy as tw\n",
    "import pandas as pd"
   ]
  },
  {
   "cell_type": "code",
   "execution_count": 4,
   "metadata": {},
   "outputs": [],
   "source": [
    "consumer_key= 'ewcFH1gMOJjxuA9NoCswTzMX3'\n",
    "consumer_secret= 'kc5LAeEi3qRLjeRZHC1opohcvUeYS8eGF9VCt6BBnozbYUibSh'\n",
    "access_token= '1020145630084096001-hsBY3YMNfNbufLP8n4UKGtZ7NRKzTQ'\n",
    "access_token_secret= '5o1EYKTOsa7XMfNBNZYp8wGfjff9BUxqjxgPMF0uVyG0C'"
   ]
  },
  {
   "cell_type": "code",
   "execution_count": 5,
   "metadata": {},
   "outputs": [],
   "source": [
    "auth = tw.OAuthHandler(consumer_key, consumer_secret)\n",
    "auth.set_access_token(access_token, access_token_secret)\n",
    "api = tw.API(auth, wait_on_rate_limit=True)"
   ]
  },
  {
   "cell_type": "code",
   "execution_count": 6,
   "metadata": {},
   "outputs": [],
   "source": [
    "search_words = \"#Trump\"\n",
    "date_since = \"2019-11-16\""
   ]
  },
  {
   "cell_type": "code",
   "execution_count": 7,
   "metadata": {},
   "outputs": [
    {
     "data": {
      "text/plain": [
       "<tweepy.cursor.ItemIterator at 0x1ff84535088>"
      ]
     },
     "execution_count": 7,
     "metadata": {},
     "output_type": "execute_result"
    }
   ],
   "source": [
    "# Collect tweets\n",
    "tweets = tw.Cursor(api.search,\n",
    "              q=search_words,\n",
    "              lang=\"en\",\n",
    "              since=date_since).items(5)\n",
    "tweets"
   ]
  },
  {
   "cell_type": "code",
   "execution_count": 8,
   "metadata": {},
   "outputs": [],
   "source": [
    "import csv\n",
    "with open('tweets_trump.csv', 'w', newline='') as csvfile:\n",
    "    spamwriter = csv.writer(csvfile, delimiter=' ',\n",
    "                            quotechar='|', quoting=csv.QUOTE_MINIMAL)"
   ]
  },
  {
   "cell_type": "code",
   "execution_count": 9,
   "metadata": {
    "scrolled": true
   },
   "outputs": [
    {
     "name": "stdout",
     "output_type": "stream",
     "text": [
      "2020-09-30 14:42:31\n",
      "@FoxNews @RichardGrenell @WhiteHouse The #Swamp wishing for #decorem and #Debate2020 process?! #Trump checked, fact… https://t.co/PSNwVjV37q\n",
      "Twitter Web App\n",
      "1311315493328957440\n",
      "luAskey\n",
      "trade, economics, and development/foreign assistance expert; Capitol Hill; legislative strategy; OECD/international organizations; parent\n",
      "Washington, DC\n",
      "2020-09-30 14:42:31\n",
      "RT @AndrewPaino: #debate #debates #Debates2020 #Debate2020 #PresidentialDebate #Trump #Biden #TrumpWon \n",
      "\n",
      "President @realDonaldTrump: “you c…\n",
      "Twitter Web App\n",
      "1311315491961466881\n",
      "POTUSTrumpIsGreat\n",
      "Re-elect POTUS TRUMP! The greatest POTUS ever!\n",
      "\n",
      "2020-09-30 14:42:29\n",
      "RT @GrrrGraphics: #Trump vs #ChrisWallace someone wake up #Biden #PresidentialDebate2020 #Debates2020 New #BenGarrison Cartoon! Wallace Bid…\n",
      "Twitter for Android\n",
      "1311315484780920832\n",
      "Slava Golovko\n",
      "👍🦅\n",
      "Pennsylvania, USA\n",
      "2020-09-30 14:42:28\n",
      "RT @TheLeoTerrell: Watching Debate: #ChrisWallace questions to #Trump were framed in a negative manner. Wallace never challenged Biden. Sha…\n",
      "Twitter for Android\n",
      "1311315483489173504\n",
      "John Spirou\n",
      "\n",
      "Tampa Bay\n",
      "2020-09-30 14:42:28\n",
      "@StoopsThe @da3_kelly @pwhiteguy1 @debby72850 @RealJamesWoods So now obiden/bama aka Mr Magoo, joementia numbers we… https://t.co/4rz8N6SM4b\n",
      "Twitter for Android\n",
      "1311315480125165568\n",
      "Anchor Rancor\n",
      "\n",
      "\n",
      "2020-09-30 14:42:27\n",
      "RT @Charles_Lister: Tonight, in what could have been one of the most watched shows in US history, President #Trump issued a de facto call t…\n",
      "Twitter for Android\n",
      "1311315475205435395\n",
      "Florian Reiter\n",
      "Politik, Kultur @FOCUSOnline. Views my own etc. Tipps, Feedback: florian.reiter@focus.de\n",
      "Munich, Germany\n",
      "2020-09-30 14:42:25\n",
      ".@CitizenFreePres: You have to give @JoeBiden enough rope to hang himself. That wasn't going to happen with… https://t.co/e5CekHJnnB\n",
      "Twitter Web App\n",
      "1311315470885310467\n",
      "War Room: Pandemic ☣️\n",
      "Radio show/podcast hosted by Steve Bannon, @RaheemKassam and @JackMaxey1 focusing on #coronavirus. Daily from 10AM-12PM ET. #WarRoomPandemic\n",
      "\n",
      "2020-09-30 14:42:23\n",
      "RT @AmandaSantiz: #Biden #Trump I prefer Trump because he respects #Guatemala democracy. Biden and his friend Baxter no.\n",
      "Twitter for Android\n",
      "1311315459413889024\n",
      "Elmy\n",
      "madre, hija, mujer trabajadora\n",
      "\n",
      "2020-09-30 14:42:22\n",
      "RT @silverbract: #VoteEarlyRemoveTrump! 34 Days Until We #VoteTrumpOut and #VoteOutEveryRepublican! #VoteBidenHarrisToSaveAmerica2020! #Vot…\n",
      "Twitter Web App\n",
      "1311315456515600386\n",
      "CLB.Designs\n",
      "🌎❄️🌊 Graphic Designer (aka Cinna). Designs to oppose, undermine & #ResistTrump & his #CorruptGOP Via #SplashingHoney & #RainFishGraphics✊#BidenForPresident!!!\n",
      "The Resistance\n",
      "2020-09-30 14:42:19\n",
      "1/2 https://t.co/hg74ygqNCl\n",
      "\n",
      "No matter what you think about the debate strategies - Winning is what counts, right?… https://t.co/ImIi6rvXwV\n",
      "Twitter Web App\n",
      "1311315445098713088\n",
      "🍀 Blackb3rry🎗Clu3s 🍀\n",
      "Find me on Brighteon and Bitchute if you're looking for the investigative citizen journalist #GeorgeWebb's lost chronicles.\n",
      "\n",
      "2020-09-30 14:42:19\n",
      "RT @DemsCentral: Anyone else view the way #Trump treated references to #BeauBiden as confirmation that he called military members “losers a…\n",
      "Twitter for Android\n",
      "1311315443794063360\n",
      "LAO\n",
      "\n",
      "\n",
      "2020-09-30 14:42:18\n",
      "Disney needs to add wicked #Trump to its Villain collection. he would make the ugliest &amp; evilest Villain of them al… https://t.co/WPVqDYu4dQ\n",
      "Twitter Web App\n",
      "1311315440380108801\n",
      "Dollsaga\n",
      "Doll Player & Collector\n",
      "United States\n",
      "2020-09-30 14:42:17\n",
      "RT @9NEWSNANCY: I think the country would be better served if, Joe, you’d take off your wire. No wonder you refused to be checked.🙄\n",
      "\n",
      "Now, l…\n",
      "Twitter for iPhone\n",
      "1311315434352730113\n",
      "Sue Burchett\n",
      "\n",
      "Loveland, CO\n",
      "2020-09-30 14:42:14\n",
      "RT @TheLeoTerrell: Watching debate: Trump had to debate @JoeBiden and #ChrisWallace . Totally unfair!  Vote #Trump @realDonaldTrump\n",
      "Twitter for iPhone\n",
      "1311315422730485763\n",
      "Toni\n",
      "#MAGA #VETERAN #DEPLORABLE #DrainTheSwamp #BuildTheWall #TRUMP #Trump2020 #COVFEFE #CONSERVATIVE #PATRIOT #CONSTITUTION #AmericaFirst #ProLife\n",
      "\n",
      "2020-09-30 14:42:14\n",
      "@Yamiche @BarbLettieri @NewsHour But that’s #Trump’s point. He isn’t interested in national security. He is interes… https://t.co/4yY1VnEsGa\n",
      "Twitter for iPad\n",
      "1311315422373965830\n",
      "Suzanne W -❤️RBG- Voting Early 🌊🌊 😷😷\n",
      "Mom of 4, Grandma of 4, Wife of 1; Semi-Retired Ultrasonographer\n",
      "North Carolina\n",
      "2020-09-30 14:42:14\n",
      "RT @DefNotDorothy: Did anyone see this thing in #Trump’s hair. What is this? \n",
      "Anybody? https://t.co/Pqq63WadWL\n",
      "Twitter Web App\n",
      "1311315422147477506\n",
      "Matthew O'Brien\n",
      "Trauma-informed self-defense coach by day. Psychic services to empower by night. Profanity as sentence enhancers. Life IS political. #Resist\n",
      "Columbus, OH\n",
      "2020-09-30 14:42:11\n",
      "RT @MsButterflyyy: Don’t ever forget that #Trump refused to denounce white supremacy. \n",
      "\n",
      "He ordered the Proud Boys to stand back and stand b…\n",
      "Twitter Web App\n",
      "1311315412236206085\n",
      "Ma\n",
      "\n",
      "\n",
      "2020-09-30 14:42:09\n",
      "RT @MakeNEGrrAgain: So Joe cheated? @realDonaldTrump @DonaldJTrumpJr @anne19brown @amandaowens1969 @DrShayPhD @RealMattCouch @mattgaetz @p_…\n",
      "Twitter for Android\n",
      "1311315402966929411\n",
      "6% Amanda\n",
      "#Catholic #Independent #MAGA #Qanon #Anons #2020 I hang around all day 🇺🇸😂🇺🇸 I block all liberals. you have nothing to say of value\n",
      "Baton Rouge Louisiana\n",
      "2020-09-30 14:42:09\n",
      "RT @silverbract: #UPDATE: September 30th. #TrumpDeathToll206K &amp; #Trump claims #coronavirus \"affects virtually nobody\". FUCK TRUMP!!! Fight…\n",
      "Twitter Web App\n",
      "1311315402564284421\n",
      "CLB.Designs\n",
      "🌎❄️🌊 Graphic Designer (aka Cinna). Designs to oppose, undermine & #ResistTrump & his #CorruptGOP Via #SplashingHoney & #RainFishGraphics✊#BidenForPresident!!!\n",
      "The Resistance\n",
      "2020-09-30 14:42:09\n",
      "RT @Mas_Tank71: I felt threatened by #Trump's rhetoric tonight. We are not safe with him as president\n",
      "#200KDeadAmericans #VoterIntimidation…\n",
      "Twitter for iPhone\n",
      "1311315401603645440\n",
      "still_resisting #TeamPelosi HandMarkedPaperBallots\n",
      "😊Survivor of much. Here to support/build BidenHarrisLandside2020  FlipTheSenateBlue  BLM  indivisible  SwingLeft  DemCastOR  ERA  LGBTQAlly DACA  She/Her\n",
      "\n"
     ]
    }
   ],
   "source": [
    "# Collect tweets\n",
    "tweets = tw.Cursor(api.search,\n",
    "              q=search_words,\n",
    "              lang=\"en\",\n",
    "              since=date_since).items(20)\n",
    "\n",
    "# Iterate and print tweets\n",
    "for tweet in tweets:\n",
    "    #print(tweet)\n",
    "    print(tweet.created_at)\n",
    "    print(tweet.text)\n",
    "    print(tweet.source)\n",
    "    print(tweet.id_str)\n",
    "    print(tweet.user.name)\n",
    "    print(tweet.user.description)\n",
    "    print(tweet.user.location)\n",
    "    \n",
    "    "
   ]
  },
  {
   "cell_type": "code",
   "execution_count": 10,
   "metadata": {},
   "outputs": [],
   "source": [
    "import sys\n",
    "with open('tweets_trump.csv', 'w', newline='') as csvfile:\n",
    "    spamwriter = csv.writer(csvfile, delimiter=',',\n",
    "                             quoting=csv.QUOTE_MINIMAL)\n",
    "    tweets = tw.Cursor(api.search,\n",
    "        q=search_words,\n",
    "        lang=\"en\",\n",
    "        since=date_since).items(20)\n",
    "    res = []\n",
    "        # Iterate and print tweets\n",
    "    for tweet in tweets:\n",
    "        tmp = []\n",
    "        tmp.append(tweet.created_at)\n",
    "        tmp.append(tweet.text.encode(sys.stdout.encoding, errors='replace'))\n",
    "        tmp.append(tweet.source)\n",
    "        tmp.append(tweet.id_str)\n",
    "        tmp.append(tweet.user.name.encode(sys.stdout.encoding, errors='replace'))\n",
    "        tmp.append(tweet.user.description.encode(sys.stdout.encoding, errors='replace'))\n",
    "        tmp.append(tweet.user.location.encode(sys.stdout.encoding, errors='replace'))\n",
    "        res.append(tmp)\n",
    "    for row in res:\n",
    "        #getting the raw form of the tweets\n",
    "        spamwriter.writerow(row)"
   ]
  }
 ],
 "metadata": {
  "kernelspec": {
   "display_name": "Python 3",
   "language": "python",
   "name": "python3"
  },
  "language_info": {
   "codemirror_mode": {
    "name": "ipython",
    "version": 3
   },
   "file_extension": ".py",
   "mimetype": "text/x-python",
   "name": "python",
   "nbconvert_exporter": "python",
   "pygments_lexer": "ipython3",
   "version": "3.7.7"
  }
 },
 "nbformat": 4,
 "nbformat_minor": 4
}
