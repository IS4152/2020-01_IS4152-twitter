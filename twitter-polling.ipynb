{
 "cells": [
  {
   "cell_type": "code",
   "execution_count": 30,
   "metadata": {},
   "outputs": [
    {
     "name": "stdout",
     "output_type": "stream",
     "text": [
      "Requirement already satisfied: tweepy in c:\\users\\choon\\appdata\\local\\continuum\\anaconda3\\lib\\site-packages (3.9.0)"
     ]
    },
    {
     "name": "stderr",
     "output_type": "stream",
     "text": [
      "WARNING: You are using pip version 20.1; however, version 20.2.3 is available.\n",
      "You should consider upgrading via the 'c:\\users\\choon\\appdata\\local\\continuum\\anaconda3\\python.exe -m pip install --upgrade pip' command.\n"
     ]
    },
    {
     "name": "stdout",
     "output_type": "stream",
     "text": [
      "\n",
      "Requirement already satisfied: requests[socks]>=2.11.1 in c:\\users\\choon\\appdata\\local\\continuum\\anaconda3\\lib\\site-packages (from tweepy) (2.23.0)\n",
      "Requirement already satisfied: requests-oauthlib>=0.7.0 in c:\\users\\choon\\appdata\\local\\continuum\\anaconda3\\lib\\site-packages (from tweepy) (1.3.0)\n",
      "Requirement already satisfied: six>=1.10.0 in c:\\users\\choon\\appdata\\local\\continuum\\anaconda3\\lib\\site-packages (from tweepy) (1.14.0)\n",
      "Requirement already satisfied: idna<3,>=2.5 in c:\\users\\choon\\appdata\\local\\continuum\\anaconda3\\lib\\site-packages (from requests[socks]>=2.11.1->tweepy) (2.9)\n",
      "Requirement already satisfied: certifi>=2017.4.17 in c:\\users\\choon\\appdata\\local\\continuum\\anaconda3\\lib\\site-packages (from requests[socks]>=2.11.1->tweepy) (2020.4.5.1)\n",
      "Requirement already satisfied: chardet<4,>=3.0.2 in c:\\users\\choon\\appdata\\local\\continuum\\anaconda3\\lib\\site-packages (from requests[socks]>=2.11.1->tweepy) (3.0.4)\n",
      "Requirement already satisfied: urllib3!=1.25.0,!=1.25.1,<1.26,>=1.21.1 in c:\\users\\choon\\appdata\\local\\continuum\\anaconda3\\lib\\site-packages (from requests[socks]>=2.11.1->tweepy) (1.25.8)\n",
      "Requirement already satisfied: PySocks!=1.5.7,>=1.5.6; extra == \"socks\" in c:\\users\\choon\\appdata\\local\\continuum\\anaconda3\\lib\\site-packages (from requests[socks]>=2.11.1->tweepy) (1.7.1)\n",
      "Requirement already satisfied: oauthlib>=3.0.0 in c:\\users\\choon\\appdata\\local\\continuum\\anaconda3\\lib\\site-packages (from requests-oauthlib>=0.7.0->tweepy) (3.1.0)\n"
     ]
    }
   ],
   "source": [
    "!pip install tweepy"
   ]
  },
  {
   "cell_type": "markdown",
   "metadata": {},
   "source": [
    "## Twitter scraping using the Tweepy API (:\n",
    "\n",
    " 1. First we will collate a list of keywords that we want\n",
    " 2. We will then fetch the raw tweets and save into a csv file\n",
    " 3. We will now then clean up the tweet, remove stopwords and do some EDA\n",
    " 4. Use bag-of-words or TD-IDF \n"
   ]
  },
  {
   "cell_type": "code",
   "execution_count": 31,
   "metadata": {},
   "outputs": [],
   "source": [
    "import os\n",
    "import tweepy as tw\n",
    "import pandas as pd"
   ]
  },
  {
   "cell_type": "code",
   "execution_count": 32,
   "metadata": {},
   "outputs": [],
   "source": [
    "consumer_key= 'nqIhZqM4wUdaSnglPSDS36ZVC'\n",
    "consumer_secret= 'kts24exbhDmAcxZMKwUhOFKtrDsOgaAoURbg27yJgUqVsJCgLS'\n",
    "access_token= '1020145630084096001-ZUWpOMYc36AZAy6Zw1ucxDVhkOlEs8'\n",
    "access_token_secret= 'CWdQKNSPt9ZSkqDNIEbKP6kl6CbDGsaT6K75KQGT3NseL'"
   ]
  },
  {
   "cell_type": "code",
   "execution_count": 33,
   "metadata": {},
   "outputs": [],
   "source": [
    "auth = tw.OAuthHandler(consumer_key, consumer_secret)\n",
    "auth.set_access_token(access_token, access_token_secret)\n",
    "api = tw.API(auth, wait_on_rate_limit=True)"
   ]
  },
  {
   "cell_type": "code",
   "execution_count": 34,
   "metadata": {},
   "outputs": [],
   "source": [
    "search_words = [\"#Trump\",\"#Biden\",\"PresidentialElection2020\",\"Election2020\",\"TrumpVSBiden\",\"donaldtrump\",'joebiden']\n",
    "date_since = \"2019-11-16\""
   ]
  },
  {
   "cell_type": "code",
   "execution_count": 35,
   "metadata": {},
   "outputs": [
    {
     "data": {
      "text/plain": [
       "<tweepy.cursor.ItemIterator at 0x1ff84854a08>"
      ]
     },
     "execution_count": 35,
     "metadata": {},
     "output_type": "execute_result"
    }
   ],
   "source": [
    "# Collect tweets\n",
    "tweets = tw.Cursor(api.search,\n",
    "              q=search_words,\n",
    "              lang=\"en\",\n",
    "              since=date_since).items(5)\n",
    "tweets"
   ]
  },
  {
   "cell_type": "code",
   "execution_count": 36,
   "metadata": {},
   "outputs": [
    {
     "ename": "PermissionError",
     "evalue": "[Errno 13] Permission denied: 'tweets_trump.csv'",
     "output_type": "error",
     "traceback": [
      "\u001b[1;31m---------------------------------------------------------------------------\u001b[0m",
      "\u001b[1;31mPermissionError\u001b[0m                           Traceback (most recent call last)",
      "\u001b[1;32m<ipython-input-36-2f1072d8067b>\u001b[0m in \u001b[0;36m<module>\u001b[1;34m\u001b[0m\n\u001b[0;32m      1\u001b[0m \u001b[1;32mimport\u001b[0m \u001b[0mcsv\u001b[0m\u001b[1;33m\u001b[0m\u001b[1;33m\u001b[0m\u001b[0m\n\u001b[1;32m----> 2\u001b[1;33m \u001b[1;32mwith\u001b[0m \u001b[0mopen\u001b[0m\u001b[1;33m(\u001b[0m\u001b[1;34m'tweets_trump.csv'\u001b[0m\u001b[1;33m,\u001b[0m \u001b[1;34m'w'\u001b[0m\u001b[1;33m,\u001b[0m \u001b[0mnewline\u001b[0m\u001b[1;33m=\u001b[0m\u001b[1;34m''\u001b[0m\u001b[1;33m)\u001b[0m \u001b[1;32mas\u001b[0m \u001b[0mcsvfile\u001b[0m\u001b[1;33m:\u001b[0m\u001b[1;33m\u001b[0m\u001b[1;33m\u001b[0m\u001b[0m\n\u001b[0m\u001b[0;32m      3\u001b[0m     spamwriter = csv.writer(csvfile, delimiter=' ',\n\u001b[0;32m      4\u001b[0m                             quotechar='|', quoting=csv.QUOTE_MINIMAL)\n",
      "\u001b[1;31mPermissionError\u001b[0m: [Errno 13] Permission denied: 'tweets_trump.csv'"
     ]
    }
   ],
   "source": [
    "import csv\n",
    "with open('tweets_trump.csv', 'w', newline='') as csvfile:\n",
    "    spamwriter = csv.writer(csvfile, delimiter=' ',\n",
    "                            quotechar='|', quoting=csv.QUOTE_MINIMAL)"
   ]
  },
  {
   "cell_type": "code",
   "execution_count": null,
   "metadata": {
    "scrolled": true
   },
   "outputs": [],
   "source": [
    "# Collect tweets\n",
    "tweets = tw.Cursor(api.search,\n",
    "              q=\"#Trump\",\n",
    "              lang=\"en\",\n",
    "              since=date_since,until='2020-09-27').items(20)\n",
    "\n",
    "# Iterate and print tweets\n",
    "for tweet in tweets:\n",
    "    #print(tweet)\n",
    "    print(tweet.created_at)\n",
    "    print(tweet.text)\n",
    "    print(tweet.source)\n",
    "    print(tweet.id_str)\n",
    "    print(tweet.user.name)\n",
    "    print(tweet.user.description)\n",
    "    print(tweet.user.location)\n",
    "    \n",
    "    "
   ]
  },
  {
   "cell_type": "code",
   "execution_count": null,
   "metadata": {},
   "outputs": [],
   "source": [
    "import sys\n",
    "with open('tweets_trump_allkeywords.csv', 'w', newline='') as csvfile:\n",
    "    res = []\n",
    "    spamwriter = csv.writer(csvfile, delimiter=',')\n",
    "    for keywords in search_words:\n",
    "        tweets = tw.Cursor(api.search,\n",
    "            q=keywords,\n",
    "            lang=\"en\",\n",
    "            since=date_since).items(20)\n",
    "            # Iterate and print tweets\n",
    "        for tweet in tweets:\n",
    "            tmp = []\n",
    "            tmp.append(tweet.created_at)\n",
    "            tmp.append(tweet.text.encode(sys.stdout.encoding, errors='replace'))\n",
    "            tmp.append(tweet.source)\n",
    "            tmp.append(tweet.id_str)\n",
    "            tmp.append(tweet.user.name.encode(sys.stdout.encoding, errors='replace'))\n",
    "            tmp.append(tweet.user.description.encode(sys.stdout.encoding, errors='replace'))\n",
    "            tmp.append(tweet.user.location.encode(sys.stdout.encoding, errors='replace'))\n",
    "            res.append(tmp)\n",
    "    for row in res:\n",
    "            #getting the raw form of the tweets\n",
    "        spamwriter.writerow(row)"
   ]
  },
  {
   "cell_type": "markdown",
   "metadata": {},
   "source": [
    "### Now we will save the raw tweets into a pandas dataframe so that it will be easier to pre-process"
   ]
  },
  {
   "cell_type": "code",
   "execution_count": null,
   "metadata": {
    "scrolled": true
   },
   "outputs": [],
   "source": [
    "import pandas as pd\n",
    "df = pd.DataFrame(res,columns=['created_at','tweet','source','id_str','username','user_description','user_location'])\n",
    "df.head()"
   ]
  }
 ],
 "metadata": {
  "kernelspec": {
   "display_name": "Python 3",
   "language": "python",
   "name": "python3"
  },
  "language_info": {
   "codemirror_mode": {
    "name": "ipython",
    "version": 3
   },
   "file_extension": ".py",
   "mimetype": "text/x-python",
   "name": "python",
   "nbconvert_exporter": "python",
   "pygments_lexer": "ipython3",
   "version": "3.7.7"
  }
 },
 "nbformat": 4,
 "nbformat_minor": 4
}
